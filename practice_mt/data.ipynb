{
 "cells": [
  {
   "cell_type": "code",
   "execution_count": 100,
   "metadata": {},
   "outputs": [],
   "source": [
    "import requests\n",
    "import json\n",
    "import pprint\n",
    "import xml.etree.ElementTree as ET\n",
    "import pandas as pd"
   ]
  },
  {
   "cell_type": "code",
   "execution_count": 103,
   "metadata": {},
   "outputs": [],
   "source": [
    "url = \"http://apis.data.go.kr/1400000/service/cultureInfoService/mntInfoOpenAPI?searchWrd=북한산&serviceKey=Q1Az3UAhaNWeHs8r1j+ZRn3Hf3zdLGmUrbTfTC9uyQR7qIn3JbcefsLZPtg2WO37D0hz2H/XQN/QKIMt2xn0qA==&pageNo=1&numOfRows=10&type=json\""
   ]
  },
  {
   "cell_type": "code",
   "execution_count": 102,
   "metadata": {},
   "outputs": [
    {
     "name": "stdout",
     "output_type": "stream",
     "text": [
      "('<OpenAPI_ServiceResponse>\\n'\n",
      " '\\t<cmmMsgHeader>\\n'\n",
      " '\\t\\t<errMsg>SERVICE ERROR</errMsg>\\n'\n",
      " '\\t\\t<returnAuthMsg>NO_OPENAPI_SERVICE_ERROR</returnAuthMsg>\\n'\n",
      " '\\t\\t<returnReasonCode>12</returnReasonCode>\\n'\n",
      " '\\t</cmmMsgHeader>\\n'\n",
      " '</OpenAPI_ServiceResponse>')\n",
      "None\n"
     ]
    }
   ],
   "source": [
    "response = requests.get(url)\n",
    "contents = response.text\n",
    "\n",
    "pp = pprint.PrettyPrinter(indent=4)\n",
    "print(pp.pprint(contents))"
   ]
  },
  {
   "cell_type": "code",
   "execution_count": 82,
   "metadata": {},
   "outputs": [
    {
     "name": "stdout",
     "output_type": "stream",
     "text": [
      "Response Contents: <?xml version=\"1.0\" encoding=\"UTF-8\" standalone=\"yes\"?><response><header><resultCode>00</resultCode><resultMsg>NORMAL SERVICE.</resultMsg></header><body><items><item><mntiadd>서울특별시 서대문구 홍은동 </mntiadd><mntiadmin>서대문구청</mntiadmin><mntiadminnum>02-330-1301</mntiadminnum><mntidetails>북한산이 걸쳐있는 행정구역은 서울, 경기도의 많은 지자체에 걸쳐있는 큰 산이다. 그중 조사대상지역인 서울 서대문구 행정구역의 지형은 서울 서대문구 홍은2동지역을 감싸고 있는 형태이며, 남쪽으로는 홍제천을 바라보고 있다.조사대상지역은 북한산의 남쪽끝자락에 해당되며 능선을 따라 서대문구와 은평구로 행정구역이 나눠어지며, 구기터널 부근부터는 성벽을 따라 서대문구와 종로구로 나눠어진다. 서대문구에 속하는 지역은 지형이 그다지 험하지 않아 쉽게 등산이 가능하나, 조사지역경계 너머 북쪽 지역은 다소 지세가 험한 편이다. 일반등산로의 경우 그다지 등산이 어렵지는 않으나, 바위가 많은 곳은 경사가 심한곳이 많아 등산시 많은 주의가 필요하다.백두산, 지리산, 금간산, 묘향산과 함께 오악(五岳)에 포함될 정도로 자연경관이 매우 뛰어난 편이다. 비록 조사대상지역이 북한산끝자락에 속하지만 북한산 자연경관의 감상하기엔 부족함이 없다.</mntidetails><mntihigh>0</mntihigh><mntilistno>114100801</mntilistno><mntiname>북한산</mntiname><mntinfdt>20201201</mntinfdt><mntisname> </mntisname><mntisummary> </mntisummary><mntitop> </mntitop></item><item><mntiadd>서울특별시  강북구 우이동 </mntiadd><mntiadmin>강북구청</mntiadmin><mntiadminnum>02-901-6114</mntiadminnum><mntidetails>서울의 진산 북한산은 조선조 초기에는 삼각산(三角山)으로 불렀다. 삼각산이란 이름은 〈신증동국여지승람〉에 '삼각산은 양주의 경계에 있다. 일명 화산(華山)이라 하고, 신라 시대에는 부아악(負兒岳)이라고 불렀다. 이 산은 경성(京城)의 진산으로 동명왕의 아들 온조가 한산(漢山)에 이르러 부아악에 올라가서 살 만한 곳을 살폈다'는 기록이 있으며, '백운봉(白雲峰, 지금의 백운대), 인수봉(仁壽峰), 만경봉(萬景峰, 지금의 만경대) 등 세 봉우리가 있으므로 그렇게 이름한 것이다'라고 유래를 기록하고 있다. 북한산성에 대해서는 〈신증동국여지승람〉과 〈북한지〉에 상세히 기록되어 있다. 북한산성은 백제 온조왕이 터를 잡았고 그 후 개루왕 때 성터를 쌓았다는 기록이 있으며, 조선 시대에 임진왜란, 병자호란을 치른 뒤 숙종 37년(1711년)에 시작하여, 6개월 만인 그해 10월에 완공하였다 한다. 북한산성은 험한 산세를 이용하여 정상을 기점으로 서쪽 산자락부터 원효봉, 염초봉, 백운대, 만경대, 용암봉, 문수봉, 나한봉, 나월봉, 용출봉, 의상봉까지 연결하여 쌓은 산성으로 총 길이가 10km에 달한다. 당시 산성에는 14개의 성문을 냈는데, 산성의 정문 격인 대서문을 중심으로 북쪽으로 수문, 서암문(시구문), 북문, 백운대를 지나 위문, 용암문, 대동문, 보국문, 대성문, 대남문, 청수동암문, 대서문에서 북서쪽으로 이어지는 산성에는, 부황 동암문, 가사동암문이 설치되었다. 현재는 대부분 성문을 복원하였다. 북한산에 수많은 등산로 거미줄 같이 엉켜 있어 산행 시 주의할 필요가 있는 곳이다. 북한산의 산행 들머리는 대표적으로 여섯 군데를 꼽고 있다. 우이동 기점, 4.19탑 기점, 정릉 기점, 세검정 기점, 불광동 기점, 구파발 북한산성 기점으로 구분할 수 있다.</mntidetails><mntihigh>835.6</mntihigh><mntilistno>113050202</mntilistno><mntiname>북한산_백운대</mntiname><mntinfdt>20201201</mntinfdt><mntisname> </mntisname><mntisummary> </mntisummary><mntitop>최고봉인 백운대를 위시하여 인수봉, 만경대, 노적봉 등 경관이 수려하고 도시민들의 휴식처이며 국립공원으로 지정(1983년)되어 있는 점 등을 고려하여 선정, 북한산성, 우이동계곡, 정릉계곡, 세검정계곡 등이 유명. 도선국사가 창건한 도선사(道詵寺), 태고사(太古寺), 화계사(華溪寺), 문수사(文殊寺), 진관사(津寬寺) 등 수많은 고찰이 있음 </mntitop></item></items><numOfRows>10</numOfRows><pageNo>1</pageNo><totalCount>2</totalCount></body></response>\n"
     ]
    }
   ],
   "source": [
    "print(\"Response Contents:\", contents)"
   ]
  },
  {
   "cell_type": "code",
   "execution_count": null,
   "metadata": {},
   "outputs": [],
   "source": []
  },
  {
   "cell_type": "code",
   "execution_count": 98,
   "metadata": {},
   "outputs": [
    {
     "name": "stdout",
     "output_type": "stream",
     "text": [
      "DataFrame from XML:\n",
      "  mntiname mntihigh          mntiadd mntiadmin mntitop  \\\n",
      "0      북한산        0  서울특별시 서대문구 홍은동      서대문구청           \n",
      "\n",
      "                                         mntidetails  \n",
      "0  북한산이 걸쳐있는 행정구역은 서울, 경기도의 많은 지자체에 걸쳐있는 큰 산이다. 그...  \n"
     ]
    }
   ],
   "source": [
    "try:\n",
    "    tree = ET.ElementTree(ET.fromstring(contents))\n",
    "    root = tree.getroot()\n",
    "\n",
    "    # Check if it's an error response\n",
    "    error_msg_element = root.find(\".//errMsg\")\n",
    "    if error_msg_element is not None:\n",
    "        error_msg = error_msg_element.text\n",
    "        return_auth_msg = root.find(\".//returnAuthMsg\").text\n",
    "        return_reason_code = root.find(\".//returnReasonCode\").text\n",
    "        print(f\"Error Message: {error_msg}\")\n",
    "        print(f\"Return Auth Message: {return_auth_msg}\")\n",
    "        print(f\"Return Reason Code: {return_reason_code}\")\n",
    "    else:\n",
    "        # Extract information from the XML response\n",
    "        data = {\n",
    "            'mntiname': [root.find(\".//mntiname\").text],\n",
    "            'mntihigh': [root.find(\".//mntihigh\").text],\n",
    "            'mntiadd': [root.find(\".//mntiadd\").text],\n",
    "            'mntiadmin': [root.find(\".//mntiadmin\").text],\n",
    "            'mntitop': [root.find(\".//mntitop\").text],\n",
    "            'mntidetails': [root.find(\".//mntidetails\").text]\n",
    "        }\n",
    "\n",
    "        # Create DataFrame\n",
    "        df = pd.DataFrame(data)\n",
    "        print(\"DataFrame from XML:\")\n",
    "        print(df)\n",
    "\n",
    "except ET.ParseError as e:\n",
    "    print(\"Failed to parse as XML. Raw content:\")\n",
    "    print(contents)"
   ]
  },
  {
   "cell_type": "code",
   "execution_count": 99,
   "metadata": {},
   "outputs": [],
   "source": [
    "import pandas as pd"
   ]
  },
  {
   "cell_type": "code",
   "execution_count": 97,
   "metadata": {},
   "outputs": [
    {
     "ename": "IndentationError",
     "evalue": "unexpected indent (1193466076.py, line 2)",
     "output_type": "error",
     "traceback": [
      "\u001b[1;36m  Cell \u001b[1;32mIn[97], line 2\u001b[1;36m\u001b[0m\n\u001b[1;33m    df = pd.DataFrame(contents)\u001b[0m\n\u001b[1;37m    ^\u001b[0m\n\u001b[1;31mIndentationError\u001b[0m\u001b[1;31m:\u001b[0m unexpected indent\n"
     ]
    }
   ],
   "source": [
    "# Create DataFrame\n",
    "    df = pd.DataFrame(contents)\n",
    "    print(\"DataFrame from XML:\")\n",
    "    print(df)"
   ]
  }
 ],
 "metadata": {
  "kernelspec": {
   "display_name": "Python 3",
   "language": "python",
   "name": "python3"
  },
  "language_info": {
   "codemirror_mode": {
    "name": "ipython",
    "version": 3
   },
   "file_extension": ".py",
   "mimetype": "text/x-python",
   "name": "python",
   "nbconvert_exporter": "python",
   "pygments_lexer": "ipython3",
   "version": "3.12.1"
  }
 },
 "nbformat": 4,
 "nbformat_minor": 2
}
